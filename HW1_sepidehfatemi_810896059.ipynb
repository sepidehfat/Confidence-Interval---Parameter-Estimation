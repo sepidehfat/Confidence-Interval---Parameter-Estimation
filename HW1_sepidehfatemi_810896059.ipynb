{
 "cells": [
  {
   "cell_type": "markdown",
   "metadata": {},
   "source": [
    "# Homework #1 - Basic Statistics\n",
    "\n",
    "**In this assignment, you are going to solve some basic statistical problems like estimating parameters of a distribution. In each problem, you are instructed to write little chunks of Python code. Additionally, there are few questions that you have to answer based on your observations and your knowledge of statistics.**\n",
    "\n",
    "**Ultimately, you are expected to submit your solutions as a single jupyter notebook, *not a python script or anything else.***\n",
    "\n",
    "**In the case of any questions, post it on the Q&A forum.**\n",
    "\n",
    "Good Luck"
   ]
  },
  {
   "cell_type": "code",
   "execution_count": 32,
   "metadata": {},
   "outputs": [],
   "source": [
    "import numpy as np\n",
    "import matplotlib.pyplot as plt\n",
    "import pandas as pd\n",
    "from dists import *\n",
    "import scipy.stats as st"
   ]
  },
  {
   "cell_type": "markdown",
   "metadata": {},
   "source": [
    "# Problem #1 - Parameter Estimation\n",
    "\n",
    "**A) By calling `my_kappa(n_sample, student_id)`, draw a sample of size 100 from `my_kappa` distribution.**"
   ]
  },
  {
   "cell_type": "code",
   "execution_count": 4,
   "metadata": {},
   "outputs": [
    {
     "data": {
      "image/png": "[encoded data removed]",
      "text/plain": [
       "<Figure size 432x288 with 1 Axes>"
      ]
     },
     "metadata": {
      "needs_background": "light"
     },
     "output_type": "display_data"
    }
   ],
   "source": [
    "values = my_kappa(100, 810896059)\n",
    "plt.title(\"distribution\")\n",
    "plt.xlabel(\"samples\")\n",
    "plt.ylabel(\"values\")\n",
    "plt.plot(mk, 'o')\n",
    "plt.show()"
   ]
  },
  {
   "cell_type": "markdown",
   "metadata": {},
   "source": [
    "**B) Calculate and print the mean of the sample you've just drawn.**"
   ]
  },
  {
   "cell_type": "code",
   "execution_count": 5,
   "metadata": {},
   "outputs": [
    {
     "name": "stdout",
     "output_type": "stream",
     "text": [
      "mean=  -0.07262934450724075\n"
     ]
    }
   ],
   "source": [
    "mean = np.mean(mk)\n",
    "print('mean= ', mean)"
   ]
  },
  {
   "cell_type": "code",
   "execution_count": 6,
   "metadata": {},
   "outputs": [
    {
     "data": {
      "image/png": "[encoded data removed]",
      "text/plain": [
       "<Figure size 432x288 with 1 Axes>"
      ]
     },
     "metadata": {
      "needs_background": "light"
     },
     "output_type": "display_data"
    }
   ],
   "source": [
    "plt.title(\"mean plot\")\n",
    "plt.xlabel(\"samples\")\n",
    "plt.ylabel(\"values\")\n",
    "plt.plot(mk, 'o')\n",
    "\n",
    "mean = mk.mean()\n",
    "samples = np.arange(0, 100, 1)\n",
    "\n",
    "mean_plot = [mean for i in range(100)]\n",
    "plt.plot(samples, mean_plot)\n",
    "plt.legend([\"Data\", \"mean\"])\n",
    "\n",
    "plt.show()"
   ]
  },
  {
   "cell_type": "markdown",
   "metadata": {},
   "source": [
    "**C) Calculate the *unbiased estimation* of the standard deviation of your sample.**"
   ]
  },
  {
   "cell_type": "code",
   "execution_count": 7,
   "metadata": {},
   "outputs": [
    {
     "data": {
      "text/plain": [
       "4.4468516163770975"
      ]
     },
     "execution_count": 7,
     "metadata": {},
     "output_type": "execute_result"
    }
   ],
   "source": [
    "std = np.std(values ,ddof=1)\n",
    "std"
   ]
  },
  {
   "cell_type": "markdown",
   "metadata": {},
   "source": [
    "Instead of that, we can calculate std by having (n-1)^1/2 in the denominator. By doing this, we have unbiased estimator of the standard deviation."
   ]
  },
  {
   "cell_type": "markdown",
   "metadata": {},
   "source": [
    "**D) Answer the following questions.**\n",
    "- What is an unbiased estimator?\n",
    "- In what situations the maximum likelihood estimation of the variance of a distribution can severely contaminate the estimation?\n",
    "\n",
    "\n",
    "1- It is an accurate statistic that's used to approximate a population parameters so the population parameters are neither an overestimate nor underestimate. By saying “unbiased”, it means the expectation of the estimator equals to the true value, e.g. If E[x] = µ then the mean estimator is unbiased. In this example we added ddof=1 so the estimator is unbiased because it takes sample from our data and calculates the std based on those samples. That makes the calculated std differ from the population std.\n",
    "\n",
    "\n",
    "2- the bias of the maximum likelihood solution becomes less signiﬁcant as the number N of data points increases, and in the limit N → ∞ the maximum likelihood solution for the variance equals the true variance of the distribution that generated the data.\n",
    "If the mean is measured relative to the sample mean and not relative to the true mean."
   ]
  },
  {
   "cell_type": "markdown",
   "metadata": {},
   "source": [
    "**E) Now, draw 100 samples of size 30 and calculate the mean value for each sample. Draw the histogram of these mean values. Does this histogram resemble any familiar probability distribution function? Why?**"
   ]
  },
  {
   "cell_type": "code",
   "execution_count": 106,
   "metadata": {},
   "outputs": [
    {
     "data": {
      "image/png": "[encoded data removed]",
      "text/plain": [
       "<Figure size 432x288 with 1 Axes>"
      ]
     },
     "metadata": {
      "needs_background": "light"
     },
     "output_type": "display_data"
    }
   ],
   "source": [
    "values = [my_kappa(30, 810896059) for i in range (100)]\n",
    "means = [np.mean(sample) for sample in values]\n",
    "\n",
    "plt.title(\"mean distribution\")\n",
    "plt.xlabel(\"mean\")\n",
    "plt.ylabel(\"number of occur\")\n",
    "plt.hist(means, bins=50)\n",
    "plt.show()"
   ]
  },
  {
   "cell_type": "markdown",
   "metadata": {},
   "source": [
    "I constructed the probability distribution of the sample mean for 100 samples of size 30 drawn from the population with my_kappa distribution.Here the sample mean is approximately normally distributed. When the distribution of the population is normal, then the distribution of the sample mean is also normal.\n",
    "That's beacause any linear combination of independent normal random variables is also normally distributed. This means that for two independent normal random variables X and Y and any constants a and b, aX + bY will be normally distributed. In the case of the sample mean, the linear combination is  = (1/n)*(X1 + X2 + ... Xn)."
   ]
  },
  {
   "cell_type": "markdown",
   "metadata": {},
   "source": [
    "# Problem #2 - Confidence Interval"
   ]
  },
  {
   "cell_type": "markdown",
   "metadata": {},
   "source": [
    "**A) Load slot_machine.csv dataset using pandas package. This file contains the data recorded from playing a slot machine for 1000 rounds. Each row in the dataset contains the outcome for a reel of the machine as well as the amount of prize won at that round.**"
   ]
  },
  {
   "cell_type": "code",
   "execution_count": 40,
   "metadata": {},
   "outputs": [
    {
     "data": {
      "text/html": [
       "<div>\n",
       "<style scoped>\n",
       "    .dataframe tbody tr th:only-of-type {\n",
       "        vertical-align: middle;\n",
       "    }\n",
       "\n",
       "    .dataframe tbody tr th {\n",
       "        vertical-align: top;\n",
       "    }\n",
       "\n",
       "    .dataframe thead th {\n",
       "        text-align: right;\n",
       "    }\n",
       "</style>\n",
       "<table border=\"1\" class=\"dataframe\">\n",
       "  <thead>\n",
       "    <tr style=\"text-align: right;\">\n",
       "      <th></th>\n",
       "      <th>reel1</th>\n",
       "      <th>reel2</th>\n",
       "      <th>reel3</th>\n",
       "      <th>prize</th>\n",
       "    </tr>\n",
       "  </thead>\n",
       "  <tbody>\n",
       "    <tr>\n",
       "      <th>0</th>\n",
       "      <td>Apple</td>\n",
       "      <td>Apple</td>\n",
       "      <td>Apple</td>\n",
       "      <td>28.762213</td>\n",
       "    </tr>\n",
       "    <tr>\n",
       "      <th>1</th>\n",
       "      <td>Orange</td>\n",
       "      <td>Apple</td>\n",
       "      <td>Apple</td>\n",
       "      <td>24.541182</td>\n",
       "    </tr>\n",
       "    <tr>\n",
       "      <th>2</th>\n",
       "      <td>Apple</td>\n",
       "      <td>Orange</td>\n",
       "      <td>Apple</td>\n",
       "      <td>19.761514</td>\n",
       "    </tr>\n",
       "    <tr>\n",
       "      <th>3</th>\n",
       "      <td>Banana</td>\n",
       "      <td>Orange</td>\n",
       "      <td>Apple</td>\n",
       "      <td>9.161757</td>\n",
       "    </tr>\n",
       "    <tr>\n",
       "      <th>4</th>\n",
       "      <td>Orange</td>\n",
       "      <td>Apple</td>\n",
       "      <td>Banana</td>\n",
       "      <td>20.491971</td>\n",
       "    </tr>\n",
       "    <tr>\n",
       "      <th>...</th>\n",
       "      <td>...</td>\n",
       "      <td>...</td>\n",
       "      <td>...</td>\n",
       "      <td>...</td>\n",
       "    </tr>\n",
       "    <tr>\n",
       "      <th>995</th>\n",
       "      <td>Apple</td>\n",
       "      <td>Orange</td>\n",
       "      <td>Apple</td>\n",
       "      <td>21.116380</td>\n",
       "    </tr>\n",
       "    <tr>\n",
       "      <th>996</th>\n",
       "      <td>Orange</td>\n",
       "      <td>Apple</td>\n",
       "      <td>Banana</td>\n",
       "      <td>19.373564</td>\n",
       "    </tr>\n",
       "    <tr>\n",
       "      <th>997</th>\n",
       "      <td>Orange</td>\n",
       "      <td>Apple</td>\n",
       "      <td>Banana</td>\n",
       "      <td>19.743847</td>\n",
       "    </tr>\n",
       "    <tr>\n",
       "      <th>998</th>\n",
       "      <td>Banana</td>\n",
       "      <td>Orange</td>\n",
       "      <td>Apple</td>\n",
       "      <td>13.347939</td>\n",
       "    </tr>\n",
       "    <tr>\n",
       "      <th>999</th>\n",
       "      <td>Apple</td>\n",
       "      <td>Apple</td>\n",
       "      <td>Orange</td>\n",
       "      <td>17.412382</td>\n",
       "    </tr>\n",
       "  </tbody>\n",
       "</table>\n",
       "<p>1000 rows × 4 columns</p>\n",
       "</div>"
      ],
      "text/plain": [
       "      reel1   reel2   reel3      prize\n",
       "0     Apple   Apple   Apple  28.762213\n",
       "1    Orange   Apple   Apple  24.541182\n",
       "2     Apple  Orange   Apple  19.761514\n",
       "3    Banana  Orange   Apple   9.161757\n",
       "4    Orange   Apple  Banana  20.491971\n",
       "..      ...     ...     ...        ...\n",
       "995   Apple  Orange   Apple  21.116380\n",
       "996  Orange   Apple  Banana  19.373564\n",
       "997  Orange   Apple  Banana  19.743847\n",
       "998  Banana  Orange   Apple  13.347939\n",
       "999   Apple   Apple  Orange  17.412382\n",
       "\n",
       "[1000 rows x 4 columns]"
      ]
     },
     "execution_count": 40,
     "metadata": {},
     "output_type": "execute_result"
    }
   ],
   "source": [
    "df = pd.read_csv(\"slot_machine.csv\")\n",
    "df"
   ]
  },
  {
   "cell_type": "markdown",
   "metadata": {},
   "source": [
    "**B) Plot the histogram of the prizes won in all rounds.**"
   ]
  },
  {
   "cell_type": "code",
   "execution_count": 28,
   "metadata": {},
   "outputs": [
    {
     "data": {
      "image/png": "[encoded data removed]",
      "text/plain": [
       "<Figure size 432x288 with 1 Axes>"
      ]
     },
     "metadata": {
      "needs_background": "light"
     },
     "output_type": "display_data"
    }
   ],
   "source": [
    "plt.title(\"prize distribution\")\n",
    "plt.xlabel(\"prize\")\n",
    "plt.ylabel(\"number of occur\")\n",
    "plt.hist(df[\"prize\"], 100)\n",
    "plt.show()"
   ]
  },
  {
   "cell_type": "markdown",
   "metadata": {},
   "source": [
    "**C) Assuming that the amount of prize won in each round is a Gaussian random variable with different parameters for each combination of outcomes, construct a 95% confidence interval for the rounds that the outcome is *\"Banana, Banana, Apple\"*.**"
   ]
  },
  {
   "cell_type": "code",
   "execution_count": 118,
   "metadata": {},
   "outputs": [
    {
     "name": "stdout",
     "output_type": "stream",
     "text": [
      "mean prize for \"Banana, Banana, Apple\" is:  22.98337224554265\n",
      "ci2:  (22.049765145511802, 23.9169793455735)\n",
      "se2:  0.4550118016727621\n"
     ]
    }
   ],
   "source": [
    "df2 = df[(df[\"reel1\"] == \"Banana\") &\n",
    "         (df[\"reel2\"] == \"Banana\") &\n",
    "         (df[\"reel3\"] == \"Apple\")]\n",
    "\n",
    "sampleMean2 = np.mean(df2[\"prize\"])\n",
    "se2 = st.sem(df2[\"prize\"])\n",
    "ci2 = st.t.interval(0.95, len(df2)-1 , loc=sampleMean2, scale=se2)\n",
    "print(\"mean prize for \\\"Banana, Banana, Apple\\\" is: \", sampleMean2)\n",
    "print(\"ci2: \", ci2)\n",
    "print(\"se2: \", se2)"
   ]
  },
  {
   "cell_type": "markdown",
   "metadata": {},
   "source": [
    "or in another way we can do this:"
   ]
  },
  {
   "cell_type": "code",
   "execution_count": 120,
   "metadata": {},
   "outputs": [
    {
     "name": "stdout",
     "output_type": "stream",
     "text": [
      "22.091565501723355 23.875178989361945\n",
      "mean prize for \"Banana, Banana, Apple\" is:  22.98337224554265\n"
     ]
    }
   ],
   "source": [
    "c = 0.95\n",
    "z = st.norm.ppf(c/2 + 0.5)\n",
    "s = np.std(df2[\"prize\"],ddof=1)\n",
    "sigma = s / np.sqrt(len(df2))\n",
    "ci = sigma * z\n",
    "sample_mean2 = np.mean(df2[\"prize\"])\n",
    "lower = sample_mean2 - ci\n",
    "upper = sample_mean2 + ci\n",
    "print(lower,upper)\n",
    "print(\"mean prize for \\\"Banana, Banana, Apple\\\" is: \", sampleMean2)\n"
   ]
  },
  {
   "cell_type": "markdown",
   "metadata": {},
   "source": [
    "Probability of prize being in (22.091565501723355, 23.875178989361945) for the rounds that the outcome is *\"Banana, Banana, Apple\"  is 95%."
   ]
  },
  {
   "cell_type": "markdown",
   "metadata": {},
   "source": [
    "**D) Now, repeat the procedure in part C for *\"Orange, Orange, Orange\"* and *\"Orange, Apple, Banana\".***"
   ]
  },
  {
   "cell_type": "code",
   "execution_count": 113,
   "metadata": {},
   "outputs": [
    {
     "name": "stdout",
     "output_type": "stream",
     "text": [
      "26.631292858399476 27.682269564388697\n",
      "mean prize for \"Orange, Orange, Orange\" is:  27.156781211394087\n"
     ]
    }
   ],
   "source": [
    "df3 = df[(df[\"reel1\"] == \"Orange\") &\n",
    "         (df[\"reel2\"] == \"Orange\") &\n",
    "         (df[\"reel3\"] == \"Orange\")]\n",
    "\n",
    "c = 0.95\n",
    "z = st.norm.ppf(c/2 + 0.5)\n",
    "s = np.std(df3[\"prize\"],ddof=1)\n",
    "sigma = s / np.sqrt(len(df3))\n",
    "ci = sigma * z\n",
    "sample_mean3 = np.mean(df3[\"prize\"])\n",
    "lower = sample_mean3 - ci\n",
    "upper = sample_mean3 + ci\n",
    "\n",
    "print(lower,upper)\n",
    "print(\"mean prize for \\\"Orange, Orange, Orange\\\" is: \", sampleMean3)"
   ]
  },
  {
   "cell_type": "markdown",
   "metadata": {},
   "source": [
    "Probability of prize being in (26.631292858399476, 27.682269564388697) for the rounds that the outcome is \"Orange, Orange, Orange\"  is 95%."
   ]
  },
  {
   "cell_type": "code",
   "execution_count": 115,
   "metadata": {},
   "outputs": [
    {
     "name": "stdout",
     "output_type": "stream",
     "text": [
      "16.215085506417765 18.161192047241002\n",
      "mean prize for \"Orange, Apple, Banana\" is:  17.188138776829383\n"
     ]
    }
   ],
   "source": [
    "df4 = df[(df[\"reel1\"] == \"Orange\") &\n",
    "         (df[\"reel2\"] == \"Apple\") &\n",
    "         (df[\"reel3\"] == \"Banana\")]\n",
    "\n",
    "c = 0.95\n",
    "z = st.norm.ppf(c/2 + 0.5)\n",
    "s = np.std(df4[\"prize\"],ddof=1)\n",
    "sigma = s / np.sqrt(len(df4))\n",
    "ci = sigma * z\n",
    "sample_mean4 = np.mean(df4[\"prize\"])\n",
    "lower = sample_mean4 - ci\n",
    "upper = sample_mean4 + ci\n",
    "\n",
    "print(lower,upper)\n",
    "print(\"mean prize for \\\"Orange, Apple, Banana\\\" is: \", sampleMean4)"
   ]
  },
  {
   "cell_type": "markdown",
   "metadata": {},
   "source": [
    "Probability of prize being in(16.215085506417765, 18.161192047241002) for the rounds that the outcome is \"Orange, Apple, Banana\"  is 95%."
   ]
  },
  {
   "cell_type": "markdown",
   "metadata": {},
   "source": [
    "**D) Answer the following questions.**\n",
    "- What is a confidenve interval?\n",
    "- Interpret the results of part C. What does the computed confidence interval mean?\n",
    "- Is there any noticable difference between the average prize for \"Banana, Banana, Apple\" and \"Oragne, Orange, Orange\"? Why?\n",
    "- Is there any noticable difference between the average prize for \"Orange, Orange, Orange\" and \"Oragne, Apple, Banana\"? Why?\n",
    "\n",
    " \n",
    " \n",
    "1- Confidence interval refers to the probability that a population parameter will fall between a set of values for a certain proportion of times. \n",
    "\n",
    "2- mentioned in part C.\n",
    "  \n",
    "3- average prize for \"Banana, Banana, Apple\" is 22.98 and average prize for \"Oragne, Orange, Orange\" is 27.15 that means on average \"Oragne, Orange, Orange\" has more prize beacause it's harder to get three Oranges in a row. In other words probability of get three Orange is smaller than \"Banana, Banana, Apple\".\n",
    "  \n",
    "4- the same thing happens for these two rounds. Average prize for \"Orange, Orange, Orange\" is 27.15 and average prize for \"Oragne, Apple, Banana\" is 17.18 which is so much lower."
   ]
  },
  {
   "cell_type": "markdown",
   "metadata": {},
   "source": [
    "# Problem #3 - Estimating The Parameters of Some Observations\n",
    "\n",
    "**In this problem, you're going to estimate the average value of a random variable. In contrast with previous problems, you are going to estimate that value over time. To observe a single realization of this random variable, call `my_normal(student_id)` function. Upon calling this function, a single observation/realization of this random variable is returned.**"
   ]
  },
  {
   "cell_type": "markdown",
   "metadata": {},
   "source": [
    "**A) Draw 100 samples from my_omicron distribution. After observing each realization, calculate the sample mean of the realizations you've observed so far. In addition to that, construct a confidence interval for your estimation at 0.1 significane level. Finally, plot your estimations in a bar plot alongside their confidence errors as whisckers of each bar. Your final plot should be similar to this:**\n",
    "\n",
    "<img src=\"https://support.content.office.net/en-us/media/68efe29e-f30c-4c6f-95cf-9cff7dde1131.jpg\" width=\"400px\" alt=\"no internet connection!\">"
   ]
  },
  {
   "cell_type": "code",
   "execution_count": 101,
   "metadata": {},
   "outputs": [
    {
     "name": "stderr",
     "output_type": "stream",
     "text": [
      "/home/linux/.local/lib/python3.8/site-packages/numpy/core/_methods.py:262: RuntimeWarning: Degrees of freedom <= 0 for slice\n",
      "  ret = _var(a, axis=axis, dtype=dtype, out=out, ddof=ddof,\n",
      "/home/linux/.local/lib/python3.8/site-packages/numpy/core/_methods.py:254: RuntimeWarning: invalid value encountered in double_scalars\n",
      "  ret = ret.dtype.type(ret / rcount)\n"
     ]
    },
    {
     "data": {
      "image/png": "[encoded data removed]",
      "text/plain": [
       "<Figure size 1440x1440 with 1 Axes>"
      ]
     },
     "metadata": {
      "needs_background": "light"
     },
     "output_type": "display_data"
    }
   ],
   "source": [
    "c = 0.95\n",
    "samples = []\n",
    "samples_means = []\n",
    "errors = []\n",
    "\n",
    "for i in range(100):\n",
    "    sample = my_normal(810896059)\n",
    "    samples.append(sample)\n",
    "    samples_mean = np.mean(samples)\n",
    "    samples_means.append(samples_mean)\n",
    "    z = st.norm.ppf(c / 2 + 0.5)\n",
    "    s = np.std(samples, ddof=1)\n",
    "    sigma = s / np.sqrt(len(samples))\n",
    "    ci = sigma * z\n",
    "    errors.append(ci)\n",
    "\n",
    "x = np.arange(0, 100)\n",
    "plt.figure(figsize=(20, 20))\n",
    "plt.title(\"mean distribution\")\n",
    "plt.xlabel(\"sample\")\n",
    "plt.ylabel(\"mean\")\n",
    "plt.plot(x, samples_means)\n",
    "plt.errorbar(x, samples_means, yerr=errors, fmt='o', color='black')\n",
    "plt.show()"
   ]
  },
  {
   "cell_type": "markdown",
   "metadata": {},
   "source": [
    "**B) How is your estimation changing over time? How is your confidence interval changing? Explain why.**"
   ]
  },
  {
   "cell_type": "markdown",
   "metadata": {},
   "source": [
    "Over time we have more sample from the population, and by having more sample the estimation of mean is much more accurate and the confidence interval is smaller. That means there is a higher chance that the real mean of population or the mean of new sample is in the cnfidence interval around the estimated mean.\n",
    "for calculation of std, there is sqrt(number of sample) in the denominator. So larger std makes the confidence interval smaller and the estimation is more accurate."
   ]
  },
  {
   "cell_type": "code",
   "execution_count": 121,
   "metadata": {},
   "outputs": [
    {
     "data": {
      "text/plain": [
       "0"
      ]
     },
     "execution_count": 121,
     "metadata": {},
     "output_type": "execute_result"
    }
   ],
   "source": [
    "import os\n",
    "os.system('jupyter nbconvert --to html HW1_sepidehfatemi_810896059.ipynb')"
   ]
  }
 ],
 "metadata": {
  "interpreter": {
   "hash": "691552c8998edcb2b21b363cf179e098f54bc66c9cff9807dcb9814d58a77e03"
  },
  "kernelspec": {
   "display_name": "Python 3",
   "language": "python",
   "name": "python3"
  },
  "language_info": {
   "codemirror_mode": {
    "name": "ipython",
    "version": 3
   },
   "file_extension": ".py",
   "mimetype": "text/x-python",
   "name": "python",
   "nbconvert_exporter": "python",
   "pygments_lexer": "ipython3",
   "version": "3.8.10"
  },
  "toc": {
   "base_numbering": 1,
   "nav_menu": {},
   "number_sections": true,
   "sideBar": true,
   "skip_h1_title": false,
   "title_cell": "Table of Contents",
   "title_sidebar": "Contents",
   "toc_cell": false,
   "toc_position": {},
   "toc_section_display": true,
   "toc_window_display": false
  },
  "varInspector": {
   "cols": {
    "lenName": 16,
    "lenType": 16,
    "lenVar": 40
   },
   "kernels_config": {
    "python": {
     "delete_cmd_postfix": "",
     "delete_cmd_prefix": "del ",
     "library": "var_list.py",
     "varRefreshCmd": "print(var_dic_list())"
    },
    "r": {
     "delete_cmd_postfix": ") ",
     "delete_cmd_prefix": "rm(",
     "library": "var_list.r",
     "varRefreshCmd": "cat(var_dic_list()) "
    }
   },
   "types_to_exclude": [
    "module",
    "function",
    "builtin_function_or_method",
    "instance",
    "_Feature"
   ],
   "window_display": false
  }
 },
 "nbformat": 4,
 "nbformat_minor": 2
}
